{
 "cells": [
  {
   "cell_type": "code",
   "execution_count": 57,
   "metadata": {},
   "outputs": [],
   "source": [
    "import pandas as pd\n",
    "import numpy as np\n",
    "import matplotlib.pyplot as plt\n",
    "\n",
    "import seaborn as sns\n",
    "\n",
    "%matplotlib qt5"
   ]
  },
  {
   "cell_type": "markdown",
   "metadata": {},
   "source": [
    "## Get the Steps File"
   ]
  },
  {
   "cell_type": "code",
   "execution_count": 86,
   "metadata": {},
   "outputs": [
    {
     "name": "stdout",
     "output_type": "stream",
     "text": [
      "pi@10.0.39.123's password: \n"
     ]
    }
   ],
   "source": [
    "# grab the file and rename as steps.csv\n",
    "!scp pi@10.0.39.123:/home/pi/arduino-data/steps/steps1.csv steps.csv"
   ]
  },
  {
   "cell_type": "markdown",
   "metadata": {},
   "source": [
    "## Load the steps file"
   ]
  },
  {
   "cell_type": "code",
   "execution_count": 92,
   "metadata": {},
   "outputs": [
    {
     "name": "stdout",
     "output_type": "stream",
     "text": [
      "<class 'pandas.core.frame.DataFrame'>\n",
      "RangeIndex: 12 entries, 0 to 11\n",
      "Data columns (total 5 columns):\n",
      "timestamp_local    12 non-null datetime64[ns]\n",
      "step_no            12 non-null int64\n",
      "ie_ratio           12 non-null float64\n",
      "tidal_vol          12 non-null int64\n",
      "bpm                12 non-null float64\n",
      "dtypes: datetime64[ns](1), float64(2), int64(2)\n",
      "memory usage: 608.0 bytes\n"
     ]
    }
   ],
   "source": [
    "steps = pd.read_csv(\"steps.csv\")\n",
    "\n",
    "# convert to datetime\n",
    "steps[\"timestamp_local\"] = steps[\"timestamp_local\"].map(pd.to_datetime)\n",
    "\n",
    "steps.info()"
   ]
  },
  {
   "cell_type": "markdown",
   "metadata": {},
   "source": [
    "## Get the data file"
   ]
  },
  {
   "cell_type": "code",
   "execution_count": null,
   "metadata": {},
   "outputs": [],
   "source": [
    "# grab the file and rename as steps.csv\n",
    "!scp pi@10.0.39.123:/home/pi/arduino-data/data/data1.csv data.csv"
   ]
  },
  {
   "cell_type": "markdown",
   "metadata": {},
   "source": [
    "## Load the data file"
   ]
  },
  {
   "cell_type": "code",
   "execution_count": 93,
   "metadata": {},
   "outputs": [
    {
     "name": "stdout",
     "output_type": "stream",
     "text": [
      "<class 'pandas.core.frame.DataFrame'>\n",
      "DatetimeIndex: 35083 entries, 2020-03-29 20:56:52.107568 to 2020-03-29 21:03:19.411860\n",
      "Data columns (total 7 columns):\n",
      "millis       35083 non-null int64\n",
      "enc          35083 non-null int64\n",
      "step         0 non-null object\n",
      "elapsed      0 non-null object\n",
      "ie_ratio     0 non-null object\n",
      "tidal_vol    0 non-null object\n",
      "bpm          0 non-null object\n",
      "dtypes: int64(2), object(5)\n",
      "memory usage: 2.1+ MB\n"
     ]
    }
   ],
   "source": [
    "data = pd.read_csv(\"data.csv\")\n",
    "\n",
    "# convert to datetime\n",
    "data[\"timestamp_local\"] = data[\"timestamp_local\"].map(pd.to_datetime)\n",
    "\n",
    "# set the index\n",
    "data.set_index(\"timestamp_local\", inplace=True)\n",
    "\n",
    "data[\"step\"] = None\n",
    "data[\"elapsed\"] = None\n",
    "data['ie_ratio'] = None\n",
    "data[\"tidal_vol\"] = None\n",
    "data['bpm'] = None\n",
    "\n",
    "data.info()"
   ]
  },
  {
   "cell_type": "markdown",
   "metadata": {},
   "source": [
    "# Analysis\n",
    "\n",
    "## Label the encoder data"
   ]
  },
  {
   "cell_type": "code",
   "execution_count": 94,
   "metadata": {},
   "outputs": [
    {
     "name": "stdout",
     "output_type": "stream",
     "text": [
      "<class 'pandas.core.frame.DataFrame'>\n",
      "DatetimeIndex: 34860 entries, 2020-03-29 20:56:54.569896 to 2020-03-29 21:03:19.411860\n",
      "Data columns (total 7 columns):\n",
      "millis       34860 non-null int64\n",
      "enc          34860 non-null int64\n",
      "step         34860 non-null object\n",
      "elapsed      34860 non-null timedelta64[ns]\n",
      "ie_ratio     34860 non-null object\n",
      "tidal_vol    34860 non-null object\n",
      "bpm          34860 non-null object\n",
      "dtypes: int64(2), object(4), timedelta64[ns](1)\n",
      "memory usage: 2.1+ MB\n"
     ]
    }
   ],
   "source": [
    "steps[\"t0\"] = steps[\"timestamp_local\"]\n",
    "steps[\"tf\"] = steps[\"t0\"].shift(-1)\n",
    "\n",
    "rv = pd.DataFrame()\n",
    "\n",
    "for i, r in steps.iterrows():\n",
    "    step_no = r.step_no\n",
    "    \n",
    "    # get the encoder data for each period\n",
    "    t0 = r[\"t0\"]\n",
    "    tf = r[\"tf\"]\n",
    "\n",
    "    if pd.isnull(tf):\n",
    "        tf = None\n",
    "        \n",
    "    data.loc[t0:tf, \"step\"] = step_no\n",
    "    \n",
    "    # compute the elapsed time for each step\n",
    "    elapsed_start = data.query(\"step == {}\".format(step_no))[\"millis\"][0]\n",
    "    data.loc[t0:tf, \"elapsed\"] = data[t0:tf][\"millis\"] - elapsed_start\n",
    "    \n",
    "    # add in the rest of the data\n",
    "    data.loc[t0:tf, \"bpm\"] = r['bpm']\n",
    "    data.loc[t0:tf, \"tidal_vol\"] = r['tidal_vol']\n",
    "    data.loc[t0:tf, \"ie_ratio\"] = r['ie_ratio']\n",
    "    \n",
    "    \n",
    "# drop nans\n",
    "data = data.dropna(how='any', subset=['step'])\n",
    "\n",
    "# convert elapsed to a timedelta\n",
    "data[\"elapsed\"] = data['elapsed'].apply(pd.to_timedelta, unit='ms')\n",
    "\n",
    "data.info()"
   ]
  },
  {
   "cell_type": "code",
   "execution_count": 95,
   "metadata": {},
   "outputs": [
    {
     "data": {
      "text/html": [
       "<div>\n",
       "<style scoped>\n",
       "    .dataframe tbody tr th:only-of-type {\n",
       "        vertical-align: middle;\n",
       "    }\n",
       "\n",
       "    .dataframe tbody tr th {\n",
       "        vertical-align: top;\n",
       "    }\n",
       "\n",
       "    .dataframe thead th {\n",
       "        text-align: right;\n",
       "    }\n",
       "</style>\n",
       "<table border=\"1\" class=\"dataframe\">\n",
       "  <thead>\n",
       "    <tr style=\"text-align: right;\">\n",
       "      <th></th>\n",
       "      <th>millis</th>\n",
       "      <th>enc</th>\n",
       "      <th>step</th>\n",
       "      <th>elapsed</th>\n",
       "      <th>ie_ratio</th>\n",
       "      <th>tidal_vol</th>\n",
       "      <th>bpm</th>\n",
       "    </tr>\n",
       "    <tr>\n",
       "      <th>timestamp_local</th>\n",
       "      <th></th>\n",
       "      <th></th>\n",
       "      <th></th>\n",
       "      <th></th>\n",
       "      <th></th>\n",
       "      <th></th>\n",
       "      <th></th>\n",
       "    </tr>\n",
       "  </thead>\n",
       "  <tbody>\n",
       "    <tr>\n",
       "      <td>2020-03-29 20:56:54.569896</td>\n",
       "      <td>2471</td>\n",
       "      <td>0</td>\n",
       "      <td>1</td>\n",
       "      <td>00:00:00</td>\n",
       "      <td>1</td>\n",
       "      <td>250</td>\n",
       "      <td>10</td>\n",
       "    </tr>\n",
       "    <tr>\n",
       "      <td>2020-03-29 20:56:54.581992</td>\n",
       "      <td>2482</td>\n",
       "      <td>0</td>\n",
       "      <td>1</td>\n",
       "      <td>00:00:00.011000</td>\n",
       "      <td>1</td>\n",
       "      <td>250</td>\n",
       "      <td>10</td>\n",
       "    </tr>\n",
       "    <tr>\n",
       "      <td>2020-03-29 20:56:54.590229</td>\n",
       "      <td>2493</td>\n",
       "      <td>0</td>\n",
       "      <td>1</td>\n",
       "      <td>00:00:00.022000</td>\n",
       "      <td>1</td>\n",
       "      <td>250</td>\n",
       "      <td>10</td>\n",
       "    </tr>\n",
       "    <tr>\n",
       "      <td>2020-03-29 20:56:54.602249</td>\n",
       "      <td>2504</td>\n",
       "      <td>0</td>\n",
       "      <td>1</td>\n",
       "      <td>00:00:00.033000</td>\n",
       "      <td>1</td>\n",
       "      <td>250</td>\n",
       "      <td>10</td>\n",
       "    </tr>\n",
       "    <tr>\n",
       "      <td>2020-03-29 20:56:54.614647</td>\n",
       "      <td>2515</td>\n",
       "      <td>0</td>\n",
       "      <td>1</td>\n",
       "      <td>00:00:00.044000</td>\n",
       "      <td>1</td>\n",
       "      <td>250</td>\n",
       "      <td>10</td>\n",
       "    </tr>\n",
       "  </tbody>\n",
       "</table>\n",
       "</div>"
      ],
      "text/plain": [
       "                            millis  enc step         elapsed ie_ratio  \\\n",
       "timestamp_local                                                         \n",
       "2020-03-29 20:56:54.569896    2471    0    1        00:00:00        1   \n",
       "2020-03-29 20:56:54.581992    2482    0    1 00:00:00.011000        1   \n",
       "2020-03-29 20:56:54.590229    2493    0    1 00:00:00.022000        1   \n",
       "2020-03-29 20:56:54.602249    2504    0    1 00:00:00.033000        1   \n",
       "2020-03-29 20:56:54.614647    2515    0    1 00:00:00.044000        1   \n",
       "\n",
       "                           tidal_vol bpm  \n",
       "timestamp_local                           \n",
       "2020-03-29 20:56:54.569896       250  10  \n",
       "2020-03-29 20:56:54.581992       250  10  \n",
       "2020-03-29 20:56:54.590229       250  10  \n",
       "2020-03-29 20:56:54.602249       250  10  \n",
       "2020-03-29 20:56:54.614647       250  10  "
      ]
     },
     "execution_count": 95,
     "metadata": {},
     "output_type": "execute_result"
    }
   ],
   "source": [
    "data.head()"
   ]
  },
  {
   "cell_type": "code",
   "execution_count": 96,
   "metadata": {},
   "outputs": [
    {
     "data": {
      "text/plain": [
       "<seaborn.axisgrid.FacetGrid at 0x147ab7518>"
      ]
     },
     "execution_count": 96,
     "metadata": {},
     "output_type": "execute_result"
    }
   ],
   "source": [
    "g = sns.FacetGrid(col=\"ie_ratio\", row=\"bpm\", hue='tidal_vol',  data=data, aspect=1.5, \n",
    "                  sharex=True, sharey=False)\n",
    "\n",
    "g.map_dataframe(plt.plot, \"elapsed\", \"enc\")\n",
    "\n",
    "g.add_legend()\n",
    "\n",
    "# plt.tight_layout()"
   ]
  },
  {
   "cell_type": "code",
   "execution_count": null,
   "metadata": {},
   "outputs": [],
   "source": []
  }
 ],
 "metadata": {
  "kernelspec": {
   "display_name": "Python 3",
   "language": "python",
   "name": "python3"
  },
  "language_info": {
   "codemirror_mode": {
    "name": "ipython",
    "version": 3
   },
   "file_extension": ".py",
   "mimetype": "text/x-python",
   "name": "python",
   "nbconvert_exporter": "python",
   "pygments_lexer": "ipython3",
   "version": "3.6.5"
  }
 },
 "nbformat": 4,
 "nbformat_minor": 4
}
